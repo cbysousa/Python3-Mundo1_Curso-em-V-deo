{
  "nbformat": 4,
  "nbformat_minor": 0,
  "metadata": {
    "colab": {
      "provenance": [],
      "authorship_tag": "ABX9TyOnqU/7QwLEJwVsrmsTTaUC",
      "include_colab_link": true
    },
    "kernelspec": {
      "name": "python3",
      "display_name": "Python 3"
    },
    "language_info": {
      "name": "python"
    }
  },
  "cells": [
    {
      "cell_type": "markdown",
      "metadata": {
        "id": "view-in-github",
        "colab_type": "text"
      },
      "source": [
        "<a href=\"https://colab.research.google.com/github/cbysousa/Python3-Mundo1_Curso-em-V-deo/blob/main/Curso_em_V%C3%ADdeo_Python_3%2C_Mundo_1.ipynb\" target=\"_parent\"><img src=\"https://colab.research.google.com/assets/colab-badge.svg\" alt=\"Open In Colab\"/></a>"
      ]
    },
    {
      "cell_type": "markdown",
      "source": [
        "# 002\n",
        "Respondendo ao usuário\n",
        "\n"
      ],
      "metadata": {
        "id": "Xe4nRQlaChFv"
      }
    },
    {
      "cell_type": "code",
      "execution_count": null,
      "metadata": {
        "id": "b0CqeBztA603"
      },
      "outputs": [],
      "source": [
        "nome = input(\"Digite seu nome: \")\n",
        "print('Seja bem-vindo(a), {}' .format(nome))\n",
        "#o bloco \"{}\" vai ser substituído pela formatação depois da string\n",
        "\n",
        "\"\"\" print(f\"Seja bem-vindo(a), {nome}\") \"\"\"\n",
        "#é a forma de formatação mais recente"
      ]
    },
    {
      "cell_type": "markdown",
      "source": [
        "#003\n",
        "Somando dois números"
      ],
      "metadata": {
        "id": "NgOqXPlXOWV0"
      }
    },
    {
      "cell_type": "code",
      "source": [
        "n1 = float(input(\"Digite o primeiro número \"))\n",
        "n2 = float(input(\"Digite o segundo número \"))\n",
        "s = n1 + n2\n",
        "print(f\"A soma de {n1} mais {n2} é {s}\")"
      ],
      "metadata": {
        "id": "GCbWL0YWOeid"
      },
      "execution_count": null,
      "outputs": []
    },
    {
      "cell_type": "markdown",
      "source": [
        "#004\n",
        "Dissecando uma variável"
      ],
      "metadata": {
        "id": "CjrWCgsgCrMW"
      }
    },
    {
      "cell_type": "code",
      "source": [
        "a = input(\"Digite algo: \")\n",
        "print(\"O tipo primitivo desse valor é:\", type(a))\n",
        "print(\"Só tem espaços:\", a.isspace())\n",
        "print(\"É um número:\", a.isnumeric())\n",
        "print(\"É alfabético:\", a.isalpha())\n",
        "print(\"É alfanumérico:\", a.isalnum())\n",
        "print(\"Está em maiúscula:\", a.isupper())\n",
        "print(\"Está em minúscula:\", a.islower())\n",
        "print(\"Está capitalizada:\", a.istitle())"
      ],
      "metadata": {
        "id": "SNLgjnLEBVC4"
      },
      "execution_count": null,
      "outputs": []
    },
    {
      "cell_type": "markdown",
      "source": [
        "#005\n",
        "Antecessor e Sucessor"
      ],
      "metadata": {
        "id": "q3UhqSUUZfGf"
      }
    },
    {
      "cell_type": "code",
      "source": [
        "n = int(input(\"Digite um número: \"))\n",
        "a = n - 1\n",
        "b = n + 1\n",
        "print(\"O antecessor de\", n, \"é\", a, \"e seu sucessor é\", b)"
      ],
      "metadata": {
        "id": "QI-cNrllaXvH"
      },
      "execution_count": null,
      "outputs": []
    },
    {
      "cell_type": "code",
      "source": [
        "n = int(input(\"Digite um número: \"))\n",
        "print(f\"Analisando o valor {n}, seu antecessor é {(n-1)}, e seu sucessor {(n-2)}\")"
      ],
      "metadata": {
        "id": "WBJNphS-pJI1"
      },
      "execution_count": null,
      "outputs": []
    },
    {
      "cell_type": "markdown",
      "source": [
        "#006\n",
        "Dobro, triplo, raiz quadrada e raiz cúbica"
      ],
      "metadata": {
        "id": "SMnoU5cvPhd4"
      }
    },
    {
      "cell_type": "code",
      "source": [
        "n = float(input(\"Digite o número \"))\n",
        "d = n*2\n",
        "t = n*3\n",
        "rq = n ** (1/2)\n",
        "rc = n ** (1/3)\n",
        "print(f\"O dobro de {n} é {d}, o triplo é {t}, sua raiz quadrada é {rq}, e sua raiz cúbica é {rc}\")"
      ],
      "metadata": {
        "id": "ninXZRMBPsds"
      },
      "execution_count": null,
      "outputs": []
    },
    {
      "cell_type": "markdown",
      "source": [
        "#007\n",
        "Média aritmética"
      ],
      "metadata": {
        "id": "3HhDw6V9eouN"
      }
    },
    {
      "cell_type": "code",
      "source": [
        "n1 = float(input(\"Digite a primeira nota: \"))\n",
        "n2 = float(input(\"Digite a segunda nota: \"))\n",
        "media = (n1+n2)/2\n",
        "print(f\"A média das suas notas é {media}\")"
      ],
      "metadata": {
        "id": "MkHhW6DADF1P"
      },
      "execution_count": null,
      "outputs": []
    },
    {
      "cell_type": "markdown",
      "source": [
        "#008\n",
        "Conversor de medidas\n"
      ],
      "metadata": {
        "id": "Duo_NMDUesVH"
      }
    },
    {
      "cell_type": "code",
      "source": [
        "m = int(input(\"Insira o valor em m: \"))\n",
        "cm = m * 100\n",
        "mm = m * 1000\n",
        "print(\"{}m em centímetros é igual a {}cm, e em milímetros é {}mm\".format(m, cm, mm))"
      ],
      "metadata": {
        "colab": {
          "base_uri": "https://localhost:8080/"
        },
        "id": "90sRJFtmIB7M",
        "outputId": "b60cc2e0-3b61-4103-8b97-4a503e53c979"
      },
      "execution_count": null,
      "outputs": [
        {
          "output_type": "stream",
          "name": "stdout",
          "text": [
            "Insira o valor em m: 15\n",
            "15m em centímetros é igual a 1500cm, e em milímetros é 15000mm\n"
          ]
        }
      ]
    },
    {
      "cell_type": "markdown",
      "source": [
        "#009\n",
        "Tabuada"
      ],
      "metadata": {
        "id": "8QQ500L2pUQ3"
      }
    },
    {
      "cell_type": "code",
      "source": [
        "n = int(input(\"Digite um número para ver sua tabuada \"))\n",
        "print(\"-\" * 12)\n",
        "print(f\"{n} x {1:1} = {n*1}\")\n",
        "print(f\"{n} x {2:1} = {n*2}\")\n",
        "print(f\"{n} x {3:1} = {n*3}\")\n",
        "print(f\"{n} x {4:1} = {n*4}\")\n",
        "print(f\"{n} x {5:1} = {n*5}\")\n",
        "print(f\"{n} x {6:1} = {n*6}\")\n",
        "print(f\"{n} x {7:1} = {n*7}\")\n",
        "print(f\"{n} x {8:1} = {n*8}\")\n",
        "print(f\"{n} x {9:1} = {n*9}\")\n",
        "print(f\"{n} x {10:1} = {n*10}\")\n",
        "print(\"-\" * 12)"
      ],
      "metadata": {
        "id": "QH93u5SfdHR3"
      },
      "execution_count": null,
      "outputs": []
    },
    {
      "cell_type": "code",
      "source": [
        "n = int(input(\"Digite um número:\"))\n",
        "for i in range (0, 11):\n",
        "  print(f\"{i}x{n}={i*n}\")"
      ],
      "metadata": {
        "id": "p9JprELBrVhr"
      },
      "execution_count": null,
      "outputs": []
    },
    {
      "cell_type": "markdown",
      "source": [
        "#010\n",
        "Conversor de moedas"
      ],
      "metadata": {
        "id": "GN2vpq6uhBv1"
      }
    },
    {
      "cell_type": "code",
      "source": [
        "d = int(input(\"Entre com o valor que você tem na carteira: \"))\n",
        "u = d/4.95\n",
        "print(f\"Com R${d} você pode comprar {u} dólares\")"
      ],
      "metadata": {
        "id": "awFX492tf0-Q"
      },
      "execution_count": null,
      "outputs": []
    },
    {
      "cell_type": "markdown",
      "source": [
        "#011\n",
        "Pintando parede"
      ],
      "metadata": {
        "id": "gXs4fBPijNzW"
      }
    },
    {
      "cell_type": "code",
      "source": [
        "l = int(input(\"Digite a largura da parede em m: \"))\n",
        "h = int(input(\"Digite a altura da parede em m: \"))\n",
        "A = l*h\n",
        "t = A/2\n",
        "print(f\"A área da sua parede é {A}m²\\nPara pintar essa parede, será necessário {t} litros de tinta\"))"
      ],
      "metadata": {
        "id": "1dlXwrwGgXEC"
      },
      "execution_count": null,
      "outputs": []
    },
    {
      "cell_type": "markdown",
      "source": [
        "#012\n",
        "Calculando Descontos"
      ],
      "metadata": {
        "id": "4dqFBLybjTTO"
      }
    },
    {
      "cell_type": "code",
      "source": [
        "p = float(input(\"Qual é o preço do produto? \"))\n",
        "d = int(input(\"Entre com a porcentagem do desconto: \") )\n",
        "cd = p-p*d/100\n",
        "print(f\"Na promoção com desconto de {d}%, o produto passará a custar R${cd}\")"
      ],
      "metadata": {
        "id": "cGkD1nWph8Z1"
      },
      "execution_count": null,
      "outputs": []
    },
    {
      "cell_type": "markdown",
      "source": [
        "#013\n",
        "Reajuste Salarial"
      ],
      "metadata": {
        "id": "trqi7tcNkrPY"
      }
    },
    {
      "cell_type": "code",
      "source": [
        "s = float(input(\"Digite o valor do salário em R$ \"))\n",
        "a = int(input(\"Digite o valor do aumento em % \"))\n",
        "p = s+s*a/100\n",
        "print(f\"Um funcionário que ganhava {s}, com aumento de {a}%, passará a ganhar {p}\")"
      ],
      "metadata": {
        "id": "XWVufQevkJMu"
      },
      "execution_count": null,
      "outputs": []
    },
    {
      "cell_type": "markdown",
      "source": [
        "#014\n",
        "Conversor de Temperaturas"
      ],
      "metadata": {
        "id": "5JF2e7CsgfYw"
      }
    },
    {
      "cell_type": "code",
      "source": [],
      "metadata": {
        "id": "mq6Nx8X9gliD"
      },
      "execution_count": null,
      "outputs": []
    },
    {
      "cell_type": "markdown",
      "source": [
        "#015\n",
        "Aluguel de carros"
      ],
      "metadata": {
        "id": "ThE-tVxveqRI"
      }
    },
    {
      "cell_type": "code",
      "source": [
        "d = int(input(\"Quantos dias alugados? \"))\n",
        "km = float(input(\"Quantos km rodados? \"))\n",
        "f = (d*60)+(km*0.15)\n",
        "print(f\"o Total a pagar é R${f}\")"
      ],
      "metadata": {
        "id": "ThyZx-HlY5HM"
      },
      "execution_count": null,
      "outputs": []
    },
    {
      "cell_type": "markdown",
      "source": [
        "#016\n",
        "Quebrando um número"
      ],
      "metadata": {
        "id": "QRMGFJlJKWsT"
      }
    },
    {
      "cell_type": "code",
      "source": [
        "n = float(input(\"Digite um valor \"))\n",
        "i = int(n)\n",
        "print(f\"O valor digitado foi {n}, e sua porção inteira é {i}\")"
      ],
      "metadata": {
        "id": "FJjjx2h5hecr"
      },
      "execution_count": null,
      "outputs": []
    },
    {
      "cell_type": "code",
      "source": [
        "import math\n",
        "n = float(input(\"Digite um valor \"))\n",
        "print(f\"O valor digitado foi {n}, e sua porção inteira é {math.trunc(n)}\")"
      ],
      "metadata": {
        "id": "1wR0aH5mLv6Y"
      },
      "execution_count": null,
      "outputs": []
    },
    {
      "cell_type": "code",
      "source": [
        "from math import trunc\n",
        "n = float(input(\"Digite um valor \"))\n",
        "print(f\"O valor digitado foi {n}, e sua porção inteira é {trunc(n)}\")"
      ],
      "metadata": {
        "id": "wN6IFtHCMWIR"
      },
      "execution_count": null,
      "outputs": []
    },
    {
      "cell_type": "code",
      "source": [
        "n = float(input(\"Digite um valor \"))\n",
        "print(f\"O valor digitado foi {n}, e sua porção inteira é {int(n)}\")"
      ],
      "metadata": {
        "id": "ohinQ3HlNQ1E"
      },
      "execution_count": null,
      "outputs": []
    },
    {
      "cell_type": "markdown",
      "source": [
        "#017\n",
        "Catetos e hipotenusa"
      ],
      "metadata": {
        "id": "e1RsxpjBGTUp"
      }
    },
    {
      "cell_type": "code",
      "source": [
        "co = float(input(\"Comprimento do cateto oposto \"))\n",
        "ca = float(input(\"Comprimento do cateto adjacente \"))\n",
        "h = (co ** 2 + ca ** 2) ** (1/2)\n",
        "print(f\"A hipotenusa vai medir {h:.2f}\")"
      ],
      "metadata": {
        "id": "dRyEc4naHxf2"
      },
      "execution_count": null,
      "outputs": []
    },
    {
      "cell_type": "code",
      "source": [
        "import math\n",
        "co = float(input(\"Comprimento do cateto oposto: \"))\n",
        "ca = float(input(\"Comprimento do cateto adjacente: \"))\n",
        "h = math.hypot(co, ca)\n",
        "print(f\"A hipotenusa vai medir {h:.2f}\")"
      ],
      "metadata": {
        "id": "UPlDc2eHIrPD"
      },
      "execution_count": null,
      "outputs": []
    },
    {
      "cell_type": "code",
      "source": [
        "from math import hypot\n",
        "co = float(input(\"Comprimento do cateto oposto \"))\n",
        "ca = float(input(\"Comprimento do cateto adjacente \"))\n",
        "h = hypot(co, ca)\n",
        "print(f\"A hipotenusa vai medir {h:.2f}\")"
      ],
      "metadata": {
        "id": "bESC2ldKJXrj"
      },
      "execution_count": null,
      "outputs": []
    },
    {
      "cell_type": "code",
      "source": [
        "import math\n",
        "a = float(input(\"Digite o ângulo que você deseja \"))\n",
        "s = math.sin(math.radians(a))\n",
        "c = math.cos(math.radians(a))\n",
        "t = math.tan(math.radians(a))\n",
        "print(f\"O ângulo de {a}, tem o seno de {s:.2f}\")\n",
        "print(f\"O ângulo de {a}, tem o cosseno de {c:.2f}\")\n",
        "print(f\"O ângulo de {a}, tem a tangente de {t:.2f}\")"
      ],
      "metadata": {
        "id": "txOMri0YJ41f"
      },
      "execution_count": null,
      "outputs": []
    }
  ]
}